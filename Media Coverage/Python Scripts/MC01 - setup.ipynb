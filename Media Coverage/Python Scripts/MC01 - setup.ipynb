{
 "cells": [
  {
   "cell_type": "markdown",
   "metadata": {},
   "source": [
    "Media Cloud: Setting up Your Environment\n",
    "========================================\n",
    "\n",
    "[Media Cloud](https://mediacloud.org) is an open-source platform for media analysis. It is a collaborative academic project supported by various non-profit foundations since 2011. It is now led by a consortium of [University of Massachusetts Amherst](https://publicinfrastructure.org), [Northeastern University](http://dataculture.northeastern.edu), the [Media Ecosystems Analysis Group](https://www.mediaecosystems.org). You can use our various online tools to investigate news coverage about your topic of interest, and all the same information is available via a rich API.\n",
    "\n",
    "This set of notebooks is a brief introduction to the API. It covers many of the most common operations we see researchers performing. The API is fully featured, so much so that [all our web-based tools](https://search.mediacloud.org/) are built on top of it.\n",
    "\n",
    "Relevant references:\n",
    "* Our [a Python client for the api on PyPi](https://pypi.org/project/mediacloud/)"
   ]
  },
  {
   "cell_type": "markdown",
   "metadata": {},
   "source": [
    "## Setup Your API Key for this Tutorial\n",
    "\n",
    "You need to instantiate a client with your **private** API key. This key is linked to your account, and has a quota attached to it so you don't blow up our servers. If you use up your quota then you will see errors returned in your API calls. It is reset automatically every week. Email us if you need to increase your quota.\n",
    "\n",
    "To obtain your api key, you can:\n",
    "1. [login to any of our tools](https://search.mediacloud.org/sign-in)\n",
    "2. click the little person icon in the top right, then select \"profile\"\n",
    "3. copy your API key from where it is shown in the list of information about your account\n",
    "\n",
    "For this tutorial, we decided to include a `MC_API_KEY` python constant at the top of each notebook. Replace the placeholder value with your api key and then you're off."
   ]
  },
  {
   "cell_type": "markdown",
   "metadata": {},
   "source": [
    "## Installing and Instantiating a Client\n",
    "\n",
    "All our web tools are built on top of our API. Most endpoints are publicly availabe, while others require administrative access. You can read a summary and see the low-level API documentation in our [back-end GitHub repository](https://github.com/berkmancenter/mediacloud/blob/master/doc/api_2_0_spec/api_2_0_spec.md)."
   ]
  },
  {
   "cell_type": "code",
   "execution_count": 2,
   "metadata": {},
   "outputs": [
    {
     "name": "stdout",
     "output_type": "stream",
     "text": [
      "Collecting mediacloud>=4.1.0 (from -r requirements.txt (line 1))\n",
      "  Downloading mediacloud-4.1.3-py3-none-any.whl.metadata (4.3 kB)\n",
      "Requirement already satisfied: numpy==1.26.* in c:\\users\\kfallon\\appdata\\local\\anaconda3\\lib\\site-packages (from -r requirements.txt (line 2)) (1.26.4)\n",
      "Requirement already satisfied: pandas==2.1.* in c:\\users\\kfallon\\appdata\\local\\anaconda3\\lib\\site-packages (from -r requirements.txt (line 3)) (2.1.4)\n",
      "Requirement already satisfied: bokeh==3.3.* in c:\\users\\kfallon\\appdata\\local\\anaconda3\\lib\\site-packages (from -r requirements.txt (line 4)) (3.3.4)\n",
      "Requirement already satisfied: matplotlib==3.8.* in c:\\users\\kfallon\\appdata\\local\\anaconda3\\lib\\site-packages (from -r requirements.txt (line 5)) (3.8.0)\n",
      "Requirement already satisfied: python-dateutil>=2.8.2 in c:\\users\\kfallon\\appdata\\local\\anaconda3\\lib\\site-packages (from pandas==2.1.*->-r requirements.txt (line 3)) (2.8.2)\n",
      "Requirement already satisfied: pytz>=2020.1 in c:\\users\\kfallon\\appdata\\local\\anaconda3\\lib\\site-packages (from pandas==2.1.*->-r requirements.txt (line 3)) (2023.3.post1)\n",
      "Requirement already satisfied: tzdata>=2022.1 in c:\\users\\kfallon\\appdata\\local\\anaconda3\\lib\\site-packages (from pandas==2.1.*->-r requirements.txt (line 3)) (2023.3)\n",
      "Requirement already satisfied: Jinja2>=2.9 in c:\\users\\kfallon\\appdata\\local\\anaconda3\\lib\\site-packages (from bokeh==3.3.*->-r requirements.txt (line 4)) (3.1.3)\n",
      "Requirement already satisfied: contourpy>=1 in c:\\users\\kfallon\\appdata\\local\\anaconda3\\lib\\site-packages (from bokeh==3.3.*->-r requirements.txt (line 4)) (1.2.0)\n",
      "Requirement already satisfied: packaging>=16.8 in c:\\users\\kfallon\\appdata\\local\\anaconda3\\lib\\site-packages (from bokeh==3.3.*->-r requirements.txt (line 4)) (23.1)\n",
      "Requirement already satisfied: pillow>=7.1.0 in c:\\users\\kfallon\\appdata\\local\\anaconda3\\lib\\site-packages (from bokeh==3.3.*->-r requirements.txt (line 4)) (10.2.0)\n",
      "Requirement already satisfied: PyYAML>=3.10 in c:\\users\\kfallon\\appdata\\local\\anaconda3\\lib\\site-packages (from bokeh==3.3.*->-r requirements.txt (line 4)) (6.0.1)\n",
      "Requirement already satisfied: tornado>=5.1 in c:\\users\\kfallon\\appdata\\local\\anaconda3\\lib\\site-packages (from bokeh==3.3.*->-r requirements.txt (line 4)) (6.3.3)\n",
      "Requirement already satisfied: xyzservices>=2021.09.1 in c:\\users\\kfallon\\appdata\\local\\anaconda3\\lib\\site-packages (from bokeh==3.3.*->-r requirements.txt (line 4)) (2022.9.0)\n",
      "Requirement already satisfied: cycler>=0.10 in c:\\users\\kfallon\\appdata\\local\\anaconda3\\lib\\site-packages (from matplotlib==3.8.*->-r requirements.txt (line 5)) (0.11.0)\n",
      "Requirement already satisfied: fonttools>=4.22.0 in c:\\users\\kfallon\\appdata\\local\\anaconda3\\lib\\site-packages (from matplotlib==3.8.*->-r requirements.txt (line 5)) (4.25.0)\n",
      "Requirement already satisfied: kiwisolver>=1.0.1 in c:\\users\\kfallon\\appdata\\local\\anaconda3\\lib\\site-packages (from matplotlib==3.8.*->-r requirements.txt (line 5)) (1.4.4)\n",
      "Requirement already satisfied: pyparsing>=2.3.1 in c:\\users\\kfallon\\appdata\\local\\anaconda3\\lib\\site-packages (from matplotlib==3.8.*->-r requirements.txt (line 5)) (3.0.9)\n",
      "Requirement already satisfied: requests==2.* in c:\\users\\kfallon\\appdata\\local\\anaconda3\\lib\\site-packages (from mediacloud>=4.1.0->-r requirements.txt (line 1)) (2.31.0)\n",
      "Requirement already satisfied: charset-normalizer<4,>=2 in c:\\users\\kfallon\\appdata\\local\\anaconda3\\lib\\site-packages (from requests==2.*->mediacloud>=4.1.0->-r requirements.txt (line 1)) (2.0.4)\n",
      "Requirement already satisfied: idna<4,>=2.5 in c:\\users\\kfallon\\appdata\\local\\anaconda3\\lib\\site-packages (from requests==2.*->mediacloud>=4.1.0->-r requirements.txt (line 1)) (3.4)\n",
      "Requirement already satisfied: urllib3<3,>=1.21.1 in c:\\users\\kfallon\\appdata\\local\\anaconda3\\lib\\site-packages (from requests==2.*->mediacloud>=4.1.0->-r requirements.txt (line 1)) (2.0.7)\n",
      "Requirement already satisfied: certifi>=2017.4.17 in c:\\users\\kfallon\\appdata\\local\\anaconda3\\lib\\site-packages (from requests==2.*->mediacloud>=4.1.0->-r requirements.txt (line 1)) (2024.2.2)\n",
      "Requirement already satisfied: MarkupSafe>=2.0 in c:\\users\\kfallon\\appdata\\local\\anaconda3\\lib\\site-packages (from Jinja2>=2.9->bokeh==3.3.*->-r requirements.txt (line 4)) (2.1.3)\n",
      "Requirement already satisfied: six>=1.5 in c:\\users\\kfallon\\appdata\\local\\anaconda3\\lib\\site-packages (from python-dateutil>=2.8.2->pandas==2.1.*->-r requirements.txt (line 3)) (1.16.0)\n",
      "Downloading mediacloud-4.1.3-py3-none-any.whl (23 kB)\n",
      "Installing collected packages: mediacloud\n",
      "Successfully installed mediacloud-4.1.3\n"
     ]
    }
   ],
   "source": [
    "# If you are running this locally (not on Binder), then you should install the requirements. If you are using this on\n",
    "# Binder then all of these will be installed for you automatically.\n",
    "import sys\n",
    "!{sys.executable} -m pip install -r requirements.txt"
   ]
  },
  {
   "cell_type": "code",
   "execution_count": 6,
   "metadata": {},
   "outputs": [
    {
     "data": {
      "text/plain": [
       "'Using Media Cloud python client v4.1.3'"
      ]
     },
     "execution_count": 6,
     "metadata": {},
     "output_type": "execute_result"
    }
   ],
   "source": [
    "import os, mediacloud.api\n",
    "from importlib.metadata import version\n",
    "# Set your personal API KEY\n",
    "MC_API_KEY = 'b3dcc55226e52a962c59ed63e794bfbd7d855edc'\n",
    "search_api = mediacloud.api.SearchApi(MC_API_KEY)\n",
    "f'Using Media Cloud python client v{version(\"mediacloud\")}'"
   ]
  },
  {
   "cell_type": "code",
   "execution_count": 7,
   "metadata": {},
   "outputs": [
    {
     "data": {
      "text/plain": [
       "{'relevant': 153764791, 'total': 153764791}"
      ]
     },
     "execution_count": 7,
     "metadata": {},
     "output_type": "execute_result"
    }
   ],
   "source": [
    "import datetime as dt\n",
    "# make sure your connection and API key work by asking for the total count of in 2023\n",
    "results = search_api.story_count('*', dt.date(2023,1,1), dt.date(2023,12,31))\n",
    "results"
   ]
  },
  {
   "cell_type": "code",
   "execution_count": 5,
   "metadata": {},
   "outputs": [
    {
     "data": {
      "application/json": {
       "relevant": 153764791,
       "total": 153764791
      },
      "text/plain": [
       "<IPython.core.display.JSON object>"
      ]
     },
     "execution_count": 5,
     "metadata": {
      "application/json": {
       "expanded": false,
       "root": "root"
      }
     },
     "output_type": "execute_result"
    }
   ],
   "source": [
    "# or print it out as a nice json tree - we'll use this later (only works in Jupyter Lab)\n",
    "from IPython.display import JSON\n",
    "JSON(results)"
   ]
  },
  {
   "cell_type": "code",
   "execution_count": null,
   "metadata": {},
   "outputs": [],
   "source": []
  }
 ],
 "metadata": {
  "kernelspec": {
   "display_name": "Python 3 (ipykernel)",
   "language": "python",
   "name": "python3"
  },
  "language_info": {
   "codemirror_mode": {
    "name": "ipython",
    "version": 3
   },
   "file_extension": ".py",
   "mimetype": "text/x-python",
   "name": "python",
   "nbconvert_exporter": "python",
   "pygments_lexer": "ipython3",
   "version": "3.11.7"
  }
 },
 "nbformat": 4,
 "nbformat_minor": 4
}
